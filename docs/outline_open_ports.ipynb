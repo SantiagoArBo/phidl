{
 "cells": [
  {
   "cell_type": "markdown",
   "metadata": {},
   "source": [
    "The ``open_ports`` argument opens holes in the outlined geometry at each Port location. If not False, holes will be cut in the outline such that the Ports are not covered. If True, the holes will have the same width as the Ports. If a float, the holes will be widened by that value. If a float equal to the outline ``distance``, the outline will be flush with the port (useful positive-tone processes).\n"
   ]
  },
  {
   "cell_type": "code",
   "execution_count": null,
   "metadata": {},
   "outputs": [],
   "source": [
    "import phidl.geometry as pg\n",
    "from phidl import quickplot as qp\n",
    "from phidl import Device\n",
    "\n",
    "# Create a geometry with ports\n",
    "D = pg.L(width = 7, size = (10,20) , layer = 0)\n",
    "\n",
    "# Outline the geometry and open a hole at each port\n",
    "O = pg.outline(D, distance = 3, open_ports = True) # Hole is the same width as the port\n",
    "P = pg.outline(D, distance = 3, open_ports = 1.35) # Change the hole size by entering a float\n",
    "Q = pg.outline(D, distance = 3, open_ports = 3) # Enter the outline distance for a flush opening\n",
    "\n",
    "\n",
    "# Plot the original geometry and the results\n",
    "D.add_ref(O).movex(30)\n",
    "D.add_ref(P).movex(60)\n",
    "D.add_ref(Q).movex(90)\n",
    "qp(D)"
   ]
  },
  {
   "cell_type": "code",
   "execution_count": null,
   "metadata": {},
   "outputs": [],
   "source": []
  }
 ],
 "metadata": {
  "kernelspec": {
   "display_name": "Python 3",
   "language": "python",
   "name": "python3"
  },
  "language_info": {
   "codemirror_mode": {
    "name": "ipython",
    "version": 3
   },
   "file_extension": ".py",
   "mimetype": "text/x-python",
   "name": "python",
   "nbconvert_exporter": "python",
   "pygments_lexer": "ipython3",
   "version": "3.8.3"
  }
 },
 "nbformat": 4,
 "nbformat_minor": 4
}
